{
 "cells": [
  {
   "cell_type": "code",
   "execution_count": null,
   "outputs": [],
   "source": [
    "%pip install --quiet -U pip -r requirements.txt dm-acme[jax]==0.4.0"
   ],
   "metadata": {
    "collapsed": false,
    "pycharm": {
     "is_executing": true
    }
   }
  },
  {
   "cell_type": "code",
   "execution_count": null,
   "outputs": [],
   "source": [
    "import warnings\n",
    "warnings.filterwarnings(\"ignore\")\n",
    "\n",
    "import numpy as np\n",
    "import jax\n",
    "import pickle\n",
    "\n",
    "from discounting_chain.bmg_a2c import create_bmg_a2c_agent\n",
    "from discounting_chain.meta_a2c import create_meta_a2c_agent\n",
    "from discounting_chain.train_utils import run\n",
    "from discounting_chain.list_logger import ListLogger\n",
    "from discounting_chain.nets import create_linear_forward_fn\n",
    "from discounting_chain.envs.gymnax_dc_wrapper import create_dc_gmnax"
   ],
   "metadata": {
    "collapsed": false,
    "pycharm": {
     "is_executing": true
    }
   }
  },
  {
   "cell_type": "code",
   "execution_count": null,
   "id": "74f4f8f6",
   "metadata": {
    "pycharm": {
     "is_executing": true
    }
   },
   "outputs": [],
   "source": [
    "# Fixed Parameters for all runs\n",
    "# Agent config\n",
    "init_discount = 0.95\n",
    "outer_discount = 1.0\n",
    "inner_lambda_gae = 0.0\n",
    "outer_lambda_gae = 0.0\n",
    "inner_entropy_cost = 0.005\n",
    "outer_entropy_cost = 0.005\n",
    "lr = 0.5\n",
    "meta_lr = 0.1\n",
    "\n",
    "normalise = False\n",
    "batch_size = 128\n",
    "mapping_seed = 3\n",
    "sgd_optimizer = True\n",
    "sgd_meta_optimizer = False\n",
    "\n",
    "env, true_value_fn = create_dc_gmnax(mapping_seed=mapping_seed)\n",
    "\n",
    "# Run config\n",
    "num_iterations = 1000\n",
    "n_updates_per_iter = 50\n",
    "n_step = 100"
   ]
  },
  {
   "cell_type": "code",
   "execution_count": 4,
   "id": "302bef4e",
   "metadata": {},
   "outputs": [],
   "source": [
    "def run_experiment(use_bmg, meta_lr, meta_value_head, num_iterations, seed):\n",
    "    forward_fn = create_linear_forward_fn(\n",
    "            environment_spec=env.spec,\n",
    "            double_value_head=meta_value_head,\n",
    "        )\n",
    "    if not use_bmg:\n",
    "        print(f\"running MG with meta value head {meta_value_head}\")\n",
    "        agent = create_meta_a2c_agent(\n",
    "            env=env,\n",
    "            forward_fn=forward_fn,\n",
    "            true_value_fn=true_value_fn,\n",
    "            meta_value_head=meta_value_head,\n",
    "            lr=lr,\n",
    "            meta_lr=meta_lr,\n",
    "            init_discount=init_discount,\n",
    "            batch_size_per_device=batch_size,\n",
    "            entropy_cost=inner_entropy_cost,\n",
    "            outer_discount=outer_discount,\n",
    "            n_step=n_step,\n",
    "            lambda_gae=inner_lambda_gae,  # 1 step TD error\n",
    "            outer_lambda_gae=outer_lambda_gae,\n",
    "            normalise=normalise,\n",
    "            sgd_optimizer=sgd_optimizer,\n",
    "            sgd_meta_optimizer=sgd_meta_optimizer,\n",
    "            outer_entropy_cost=outer_entropy_cost,\n",
    "            outer_policy_grad_cost=1.0,\n",
    "            outer_critic_cost=0.0,\n",
    "            policy_grad_cost=1.0,\n",
    "            critic_cost=0.0,\n",
    "        )\n",
    "    else:\n",
    "        print(f\"running BMG meta value head {meta_value_head}\")\n",
    "        agent = create_bmg_a2c_agent(\n",
    "            true_value_fn=true_value_fn,\n",
    "            env=env,\n",
    "            forward_fn=forward_fn,\n",
    "            meta_value_head=meta_value_head,\n",
    "            lr=lr,\n",
    "            meta_lr=meta_lr,\n",
    "            init_discount=init_discount,\n",
    "            batch_size_per_device=batch_size,\n",
    "            outer_discount=outer_discount,\n",
    "            n_step=n_step,\n",
    "            policy_grad_cost_inner=1.0,\n",
    "            critic_cost_inner=0.0,\n",
    "            entropy_cost_inner=inner_entropy_cost,\n",
    "            lambda_gae_inner=inner_lambda_gae,  # 1 step TD error\n",
    "            outer_lambda_gae=outer_lambda_gae,\n",
    "            outer_critic_cost=0.0,\n",
    "            outer_entropy_cost=outer_entropy_cost,\n",
    "            outer_policy_grad_cost=1.0,\n",
    "            n_bootstrap_target_updates=1,  # 1 target update\n",
    "            normalise=normalise,\n",
    "            sgd_optimizer=sgd_optimizer,\n",
    "            sgd_meta_optimizer=sgd_meta_optimizer,\n",
    "            only_bmg_updates=False,\n",
    "            kl_over_full_batch=False,\n",
    "            use_outer_optimizer=False,\n",
    "        )\n",
    "    logger = ListLogger()\n",
    "    run(num_iterations, n_updates_per_iter, agent, logger, seed)\n",
    "    return logger.history"
   ]
  },
  {
   "cell_type": "markdown",
   "source": [
    "# 10 Seeds"
   ],
   "metadata": {
    "collapsed": false
   }
  },
  {
   "cell_type": "code",
   "execution_count": null,
   "id": "8d64a872",
   "metadata": {
    "pycharm": {
     "is_executing": true
    }
   },
   "outputs": [],
   "source": [
    "num_seeds = 10\n",
    "\n",
    "# A2C\n",
    "agent_history = []\n",
    "for seed in range(num_seeds):\n",
    "    history = run_experiment(False, 0.0, False, num_iterations, seed)\n",
    "    agent_history.append(history)\n",
    "histories = [agent_history]\n",
    "\n",
    "# Meta agents\n",
    "for meta_value_head in [False, True]:\n",
    "    for use_bmg in [False, True]:\n",
    "        agent_history = []\n",
    "        for seed in range(num_seeds):\n",
    "            history = run_experiment(use_bmg, meta_lr, meta_value_head, num_iterations, seed)\n",
    "            agent_history.append(history)\n",
    "        histories.append(agent_history)\n"
   ]
  },
  {
   "cell_type": "code",
   "execution_count": null,
   "outputs": [],
   "source": [
    "histories_array = [\n",
    "    jax.tree_util.tree_map(lambda *xs: np.stack(xs), *[\n",
    "        {key: np.array(value) for key, value in agent_history_per_seed.items()}\n",
    "        for agent_history_per_seed in agent_histories\n",
    "    ])\n",
    "    for agent_histories in histories\n",
    "]"
   ],
   "metadata": {
    "collapsed": false
   }
  },
  {
   "cell_type": "code",
   "execution_count": null,
   "outputs": [],
   "source": [
    "with open(\"discounting_chain/data/discounting_chain_histories_array.pickle\", \"wb\") as f:\n",
    "    pickle.dump(histories_array, f)"
   ],
   "metadata": {
    "collapsed": false
   }
  },
  {
   "cell_type": "markdown",
   "source": [
    "## Appendix - advantage normalisation"
   ],
   "metadata": {
    "collapsed": false
   }
  },
  {
   "cell_type": "code",
   "execution_count": null,
   "outputs": [],
   "source": [
    "# Fixed Parameters for all runs\n",
    "# Agent config\n",
    "init_discount = 0.95\n",
    "outer_discount = 1.0\n",
    "inner_lambda_gae = 0.0\n",
    "outer_lambda_gae = 0.0\n",
    "inner_entropy_cost = 0.005\n",
    "outer_entropy_cost = 0.005\n",
    "lr = 0.5\n",
    "meta_lr = 0.1\n",
    "\n",
    "normalise = True  # This differs from the main paper\n",
    "batch_size = 128\n",
    "mapping_seed = 3\n",
    "sgd_optimizer = True\n",
    "sgd_meta_optimizer = False\n",
    "\n",
    "env, true_value_fn = create_dc_gmnax(mapping_seed=mapping_seed)\n",
    "\n",
    "# Run config\n",
    "num_iterations = 1000\n",
    "n_updates_per_iter = 50\n",
    "n_step = 100"
   ],
   "metadata": {
    "collapsed": false,
    "pycharm": {
     "is_executing": true
    }
   }
  },
  {
   "cell_type": "code",
   "execution_count": 6,
   "outputs": [],
   "source": [
    "def run_experiment(use_bmg, meta_lr, meta_value_head, num_iterations, seed):\n",
    "    forward_fn = create_linear_forward_fn(\n",
    "            environment_spec=env.spec,\n",
    "            double_value_head=meta_value_head,\n",
    "        )\n",
    "    if not use_bmg:\n",
    "        print(f\"running MG with meta value head {meta_value_head}\")\n",
    "        agent = create_meta_a2c_agent(\n",
    "            env=env,\n",
    "            forward_fn=forward_fn,\n",
    "            true_value_fn=true_value_fn,\n",
    "            meta_value_head=meta_value_head,\n",
    "            lr=lr,\n",
    "            meta_lr=meta_lr,\n",
    "            init_discount=init_discount,\n",
    "            batch_size_per_device=batch_size,\n",
    "            entropy_cost=inner_entropy_cost,\n",
    "            outer_discount=outer_discount,\n",
    "            n_step=n_step,\n",
    "            lambda_gae=inner_lambda_gae,  # 1 step TD error\n",
    "            outer_lambda_gae=outer_lambda_gae,\n",
    "            normalise=normalise,\n",
    "            sgd_optimizer=sgd_optimizer,\n",
    "            sgd_meta_optimizer=sgd_meta_optimizer,\n",
    "            outer_entropy_cost=outer_entropy_cost,\n",
    "            outer_policy_grad_cost=1.0,\n",
    "            outer_critic_cost=0.0,\n",
    "            policy_grad_cost=1.0,\n",
    "            critic_cost=0.0,\n",
    "        )\n",
    "    else:\n",
    "        print(f\"running BMG meta value head {meta_value_head}\")\n",
    "        agent = create_bmg_a2c_agent(\n",
    "            true_value_fn=true_value_fn,\n",
    "            env=env,\n",
    "            forward_fn=forward_fn,\n",
    "            meta_value_head=meta_value_head,\n",
    "            lr=lr,\n",
    "            meta_lr=meta_lr,\n",
    "            init_discount=init_discount,\n",
    "            batch_size_per_device=batch_size,\n",
    "            outer_discount=outer_discount,\n",
    "            n_step=n_step,\n",
    "            policy_grad_cost_inner=1.0,\n",
    "            critic_cost_inner=0.0,\n",
    "            entropy_cost_inner=inner_entropy_cost,\n",
    "            lambda_gae_inner=inner_lambda_gae,  # 1 step TD error\n",
    "            outer_lambda_gae=outer_lambda_gae,\n",
    "            outer_critic_cost=0.0,\n",
    "            outer_entropy_cost=outer_entropy_cost,\n",
    "            outer_policy_grad_cost=1.0,\n",
    "            n_bootstrap_target_updates=1,  # 1 target update\n",
    "            normalise=normalise,\n",
    "            sgd_optimizer=sgd_optimizer,\n",
    "            sgd_meta_optimizer=sgd_meta_optimizer,\n",
    "            only_bmg_updates=False,\n",
    "            kl_over_full_batch=False,\n",
    "            use_outer_optimizer=False,\n",
    "        )\n",
    "    logger = ListLogger()\n",
    "    run(num_iterations, n_updates_per_iter, agent, logger, seed)\n",
    "    return logger.history"
   ],
   "metadata": {
    "collapsed": false
   }
  },
  {
   "cell_type": "code",
   "execution_count": null,
   "outputs": [],
   "source": [
    "# A2C\n",
    "appendix_history = run_experiment(False, 0.0, False, num_iterations, seed=0)\n",
    "appendix_histories = [appendix_history]\n",
    "\n",
    "# Meta agents\n",
    "for meta_value_head in [False, True]:\n",
    "    for use_bmg in [False, True]:\n",
    "        appendix_history = run_experiment(use_bmg, meta_lr, meta_value_head, num_iterations, seed=0)\n",
    "        appendix_histories.append(appendix_history)\n"
   ],
   "metadata": {
    "collapsed": false,
    "pycharm": {
     "is_executing": true
    }
   }
  },
  {
   "cell_type": "code",
   "execution_count": 9,
   "outputs": [],
   "source": [
    "appendix_histories_array = [\n",
    "    {key: np.array(value) for key, value in agent_history.items()}\n",
    "    for agent_history in appendix_histories\n",
    "]"
   ],
   "metadata": {
    "collapsed": false
   }
  },
  {
   "cell_type": "code",
   "execution_count": 10,
   "outputs": [],
   "source": [
    "with open(\"discounting_chain/data/discounting_chain_appendix_histories_array.pickle\", \"wb\") as f:\n",
    "    pickle.dump(appendix_histories_array, f)"
   ],
   "metadata": {
    "collapsed": false
   }
  }
 ],
 "metadata": {
  "kernelspec": {
   "name": "venv",
   "language": "python",
   "display_name": "venv"
  },
  "language_info": {
   "codemirror_mode": {
    "name": "ipython",
    "version": 3
   },
   "file_extension": ".py",
   "mimetype": "text/x-python",
   "name": "python",
   "nbconvert_exporter": "python",
   "pygments_lexer": "ipython3",
   "version": "3.8.13"
  }
 },
 "nbformat": 4,
 "nbformat_minor": 5
}
